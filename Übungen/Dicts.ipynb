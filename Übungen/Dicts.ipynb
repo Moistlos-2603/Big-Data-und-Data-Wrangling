{
 "cells": [
  {
   "cell_type": "code",
   "execution_count": 2,
   "metadata": {},
   "outputs": [
    {
     "data": {
      "text/plain": [
       "2"
      ]
     },
     "execution_count": 2,
     "metadata": {},
     "output_type": "execute_result"
    }
   ],
   "source": [
    "dic = {\"a\":1,\n",
    "        \"b\":2,\n",
    "        \"c\":3,\n",
    "        \"d\":4}\n",
    "\n",
    "dic[\"b\"]"
   ]
  },
  {
   "cell_type": "code",
   "execution_count": 4,
   "metadata": {},
   "outputs": [
    {
     "data": {
      "text/plain": [
       "{'a': 1, 'b': 2, 'c': 3, 'd': 4, 'e': 5}"
      ]
     },
     "execution_count": 4,
     "metadata": {},
     "output_type": "execute_result"
    }
   ],
   "source": [
    "dic = {\"a\":1,\n",
    "        \"b\":2,\n",
    "        \"c\":3,\n",
    "        \"d\":4}\n",
    "\n",
    "dic[\"e\"] = 5\n",
    "dic"
   ]
  },
  {
   "cell_type": "code",
   "execution_count": 6,
   "metadata": {},
   "outputs": [
    {
     "data": {
      "text/plain": [
       "2"
      ]
     },
     "execution_count": 6,
     "metadata": {},
     "output_type": "execute_result"
    }
   ],
   "source": [
    "dic = {\"a\":1,\n",
    "        \"b\":2,\n",
    "        \"c\":3,\n",
    "        \"d\":4}\n",
    "\n",
    "dic.pop(\"b\")"
   ]
  },
  {
   "cell_type": "code",
   "execution_count": 14,
   "metadata": {},
   "outputs": [
    {
     "data": {
      "text/plain": [
       "False"
      ]
     },
     "execution_count": 14,
     "metadata": {},
     "output_type": "execute_result"
    }
   ],
   "source": [
    "dic = {\"a\":1,\n",
    "        \"b\":2,\n",
    "        \"c\":3,\n",
    "        \"d\":4}\n",
    "\n",
    "def check_if_in():\n",
    "    if \"g\" in dic: \n",
    "        return True\n",
    "    else: return False\n",
    "check_if_in()"
   ]
  },
  {
   "cell_type": "code",
   "execution_count": 2,
   "metadata": {},
   "outputs": [
    {
     "name": "stdout",
     "output_type": "stream",
     "text": [
      "a\n",
      "b\n",
      "c\n",
      "d\n"
     ]
    }
   ],
   "source": [
    "dic = {\"a\":1,\n",
    "        \"b\":2,\n",
    "        \"c\":3,\n",
    "        \"d\":4}\n",
    "\n",
    "for x in dic:\n",
    "    print(x)"
   ]
  },
  {
   "cell_type": "code",
   "execution_count": 4,
   "metadata": {},
   "outputs": [
    {
     "name": "stdout",
     "output_type": "stream",
     "text": [
      "1\n",
      "2\n",
      "3\n",
      "4\n"
     ]
    }
   ],
   "source": [
    "dic = {\"a\":1,\n",
    "        \"b\":2,\n",
    "        \"c\":3,\n",
    "        \"d\":4}\n",
    "\n",
    "for x in dic:\n",
    "    print(dic[x])"
   ]
  },
  {
   "cell_type": "code",
   "execution_count": 7,
   "metadata": {},
   "outputs": [
    {
     "name": "stdout",
     "output_type": "stream",
     "text": [
      "{'a': 1, 'b': 2, 'c': 3, 'd': 4, 'e': 5, 'f': 6}\n"
     ]
    }
   ],
   "source": [
    "dic1 = {\"a\":1,\n",
    "        \"b\":2,\n",
    "        \"c\":3,\n",
    "        \"d\":4}\n",
    "\n",
    "dic2 = {\"e\":5,\n",
    "        \"f\":6}\n",
    "\n",
    "print(dic1 | dic2)"
   ]
  },
  {
   "cell_type": "code",
   "execution_count": 8,
   "metadata": {},
   "outputs": [
    {
     "data": {
      "text/plain": [
       "4"
      ]
     },
     "execution_count": 8,
     "metadata": {},
     "output_type": "execute_result"
    }
   ],
   "source": [
    "dic = {\"a\":1,\n",
    "        \"b\":2,\n",
    "        \"c\":3,\n",
    "        \"d\":4}\n",
    "len(dic)"
   ]
  },
  {
   "cell_type": "code",
   "execution_count": 10,
   "metadata": {},
   "outputs": [
    {
     "data": {
      "text/plain": [
       "{'a': {'A': 10, 'B': 20}, 'b': 2}"
      ]
     },
     "execution_count": 10,
     "metadata": {},
     "output_type": "execute_result"
    }
   ],
   "source": [
    "dic = {\"a\": {\"A\":10, \"B\": 20}, \"b\": 2}\n",
    "dic"
   ]
  },
  {
   "cell_type": "code",
   "execution_count": 16,
   "metadata": {},
   "outputs": [
    {
     "data": {
      "text/plain": [
       "{0: 0, 1: 1, 2: 4, 3: 9, 4: 16, 5: 25, 6: 36, 7: 49, 8: 64, 9: 81}"
      ]
     },
     "execution_count": 16,
     "metadata": {},
     "output_type": "execute_result"
    }
   ],
   "source": [
    "quadrat_dic = {x: x**2 for x in range(10)}\n",
    "quadrat_dic"
   ]
  },
  {
   "cell_type": "code",
   "execution_count": 26,
   "metadata": {},
   "outputs": [
    {
     "name": "stdout",
     "output_type": "stream",
     "text": [
      "{1: 'a', 2: 'b', 3: 'c', 4: ['d', 'e']}\n"
     ]
    }
   ],
   "source": [
    "dic = {\"a\":1,\n",
    "        \"b\":2,\n",
    "        \"c\":3,\n",
    "        \"d\":4,\n",
    "        \"e\":4}\n",
    "\n",
    "def inverse_dict(dict):\n",
    "    new_dic = {}\n",
    "\n",
    "    for i in dict:\n",
    "        if dict[i] in new_dic:\n",
    "            new_dic[dict[i]] = list(new_dic[dict[i]]) + [i] \n",
    "        new_dic.setdefault(dict[i], i)\n",
    "\n",
    "    return new_dic\n",
    "print(inverse_dict(dic))\n",
    "\n"
   ]
  }
 ],
 "metadata": {
  "kernelspec": {
   "display_name": "web_scraping",
   "language": "python",
   "name": "python3"
  },
  "language_info": {
   "codemirror_mode": {
    "name": "ipython",
    "version": 3
   },
   "file_extension": ".py",
   "mimetype": "text/x-python",
   "name": "python",
   "nbconvert_exporter": "python",
   "pygments_lexer": "ipython3",
   "version": "3.9.15"
  }
 },
 "nbformat": 4,
 "nbformat_minor": 2
}
