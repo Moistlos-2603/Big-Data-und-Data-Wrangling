{
 "cells": [
  {
   "cell_type": "code",
   "execution_count": 13,
   "metadata": {},
   "outputs": [
    {
     "name": "stdout",
     "output_type": "stream",
     "text": [
      "1\n",
      "1\n",
      "2\n",
      "3\n",
      "5\n",
      "8\n",
      "13\n",
      "21\n",
      "34\n",
      "55\n"
     ]
    }
   ],
   "source": [
    "# Fib\n",
    "def fib(n:int)-> None:\n",
    "    vorletzte = 1\n",
    "    letze = 1\n",
    "    for i in range(n):\n",
    "        i += 1\n",
    "        # print(\"i: \" + str(i) + \"   \" + str( i == 1 and i == 2))\n",
    "        if i == 1 or i == 2:\n",
    "            print(\"1\")\n",
    "        else:\n",
    "            this_fib =vorletzte + letze \n",
    "            print(this_fib)\n",
    "\n",
    "            vorletzte = letze\n",
    "            letze = this_fib\n",
    "\n",
    "fib(10)"
   ]
  },
  {
   "cell_type": "code",
   "execution_count": 14,
   "metadata": {},
   "outputs": [
    {
     "name": "stdout",
     "output_type": "stream",
     "text": [
      "2\n",
      "3\n",
      "5\n",
      "7\n",
      "11\n",
      "13\n",
      "17\n",
      "19\n",
      "23\n",
      "29\n",
      "31\n",
      "37\n",
      "41\n",
      "43\n",
      "47\n"
     ]
    }
   ],
   "source": [
    "#prim\n",
    "def prim(num):\n",
    "    if num < 2:\n",
    "        return False\n",
    "    \n",
    "    if num == 2:\n",
    "        return True\n",
    "\n",
    "    if num % 2 == 0:\n",
    "        return False\n",
    "\n",
    "    x = 3\n",
    "    while True:\n",
    "        if x < num:\n",
    "            if num % x == 0:\n",
    "                return False\n",
    "            x = x + 2\n",
    "        else:\n",
    "            return True\n",
    "        \n",
    "for num in range(1, 50):\n",
    "    if(prim(num)):\n",
    "        print(num) "
   ]
  },
  {
   "cell_type": "code",
   "execution_count": 20,
   "metadata": {},
   "outputs": [
    {
     "name": "stdout",
     "output_type": "stream",
     "text": [
      "*\n",
      "**\n",
      "***\n",
      "****\n",
      "*****\n"
     ]
    }
   ],
   "source": [
    "for i in range(5):\n",
    "    string = \"*\"\n",
    "    for j in range(i):\n",
    "        string += \"*\"\n",
    "    print(string)"
   ]
  },
  {
   "cell_type": "code",
   "execution_count": 22,
   "metadata": {},
   "outputs": [
    {
     "data": {
      "text/plain": [
       "252"
      ]
     },
     "execution_count": 22,
     "metadata": {},
     "output_type": "execute_result"
    }
   ],
   "source": [
    "#ggt\n",
    "def ggt(a:int, b:int)->int:\n",
    "    h = 0\n",
    "    if a == 0: return abs(b)\n",
    "    if b == 0: return abs(a)\n",
    "\n",
    "    while b != 0:\n",
    "        h = a % b\n",
    "        a = b\n",
    "        b = h\n",
    "    return abs(a)\n",
    "\n",
    "ggt(3780, 3528)"
   ]
  },
  {
   "cell_type": "code",
   "execution_count": 25,
   "metadata": {},
   "outputs": [
    {
     "name": "stdout",
     "output_type": "stream",
     "text": [
      "0\n",
      "9\n",
      "36\n",
      "81\n",
      "144\n",
      "225\n",
      "324\n",
      "441\n",
      "576\n",
      "729\n",
      "900\n",
      "1089\n",
      "1296\n",
      "1521\n",
      "1764\n",
      "2025\n",
      "2304\n",
      "2601\n",
      "2916\n",
      "3249\n",
      "3600\n",
      "3969\n",
      "4356\n",
      "4761\n",
      "5184\n",
      "5625\n",
      "6084\n",
      "6561\n",
      "7056\n",
      "7569\n",
      "8100\n",
      "8649\n",
      "9216\n",
      "9801\n"
     ]
    }
   ],
   "source": [
    "# quadratzahlen durch drei \n",
    "def quar_div_three(n):\n",
    "    for i in range(n):\n",
    "        if(i**2%3==0):\n",
    "            print( i**2)\n",
    "        \n",
    "quar_div_three(100)"
   ]
  },
  {
   "cell_type": "code",
   "execution_count": 30,
   "metadata": {},
   "outputs": [
    {
     "name": "stdout",
     "output_type": "stream",
     "text": [
      "14\n"
     ]
    }
   ],
   "source": [
    "def quersumme(zahl:int):\n",
    "    quersume = 0\n",
    "    for c in str(zahl):\n",
    "        quersume += int(c)\n",
    "    \n",
    "    print(quersume)\n",
    "quersumme(4325)"
   ]
  },
  {
   "cell_type": "code",
   "execution_count": 36,
   "metadata": {},
   "outputs": [
    {
     "name": "stdout",
     "output_type": "stream",
     "text": [
      "key: b   value: 2\n",
      "key: d   value: 4\n"
     ]
    }
   ],
   "source": [
    "dic = {\"a\":1, \n",
    "       \"b\": 2,\n",
    "       \"c\": 3,\n",
    "       \"d\": 4\n",
    "       }\n",
    "def return_if_val_is_even(dic:dict):\n",
    "    for keys in dic:\n",
    "        if dic[keys]%2 == 0:\n",
    "            print(\"key: \" + str(keys) + \"   value: \" + str(dic[keys]))\n",
    "\n",
    "return_if_val_is_even(dic)"
   ]
  },
  {
   "cell_type": "code",
   "execution_count": 38,
   "metadata": {},
   "outputs": [
    {
     "name": "stdout",
     "output_type": "stream",
     "text": [
      "9\n",
      "8\n",
      "7\n",
      "6\n",
      "5\n",
      "4\n",
      "3\n",
      "2\n",
      "1\n",
      "0\n"
     ]
    }
   ],
   "source": [
    "list = [0,1,2,3,4,5,6,7,8,9]\n",
    "\n",
    "def return_reverse_list(list):\n",
    "    for i in list:\n",
    "        print(list[len(list)-1-i])\n",
    "\n",
    "return_reverse_list(list)"
   ]
  },
  {
   "cell_type": "code",
   "execution_count": null,
   "metadata": {},
   "outputs": [],
   "source": [
    "#IDFK"
   ]
  },
  {
   "cell_type": "code",
   "execution_count": 40,
   "metadata": {},
   "outputs": [
    {
     "name": "stdout",
     "output_type": "stream",
     "text": [
      "6\n"
     ]
    }
   ],
   "source": [
    "def count_vocale(string):\n",
    "    vocal = [\"a\", \"e\", \"i\", \"o\", \"u\", \" \"]\n",
    "    counter = 0\n",
    "    for c in string:\n",
    "        if c not in vocal:\n",
    "            counter += 1\n",
    "    print(counter)\n",
    "count_vocale(\"holy fuck\")"
   ]
  }
 ],
 "metadata": {
  "kernelspec": {
   "display_name": "web_scraping",
   "language": "python",
   "name": "python3"
  },
  "language_info": {
   "codemirror_mode": {
    "name": "ipython",
    "version": 3
   },
   "file_extension": ".py",
   "mimetype": "text/x-python",
   "name": "python",
   "nbconvert_exporter": "python",
   "pygments_lexer": "ipython3",
   "version": "3.9.15"
  }
 },
 "nbformat": 4,
 "nbformat_minor": 2
}
