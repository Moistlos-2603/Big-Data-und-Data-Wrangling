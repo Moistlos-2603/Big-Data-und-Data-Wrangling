{
 "cells": [
  {
   "cell_type": "code",
   "execution_count": 1,
   "metadata": {},
   "outputs": [],
   "source": [
    "tupel1 = (1, \"2\", 3.0, True)"
   ]
  },
  {
   "cell_type": "code",
   "execution_count": 3,
   "metadata": {},
   "outputs": [
    {
     "name": "stdout",
     "output_type": "stream",
     "text": [
      "[1, '2', 3.0, True]\n",
      "(1, '2', 3.0, True)\n"
     ]
    }
   ],
   "source": [
    "tupel1 = (1, \"2\", 3.0, True)\n",
    "l = list(tupel1)\n",
    "print(l)\n",
    "tupel2 = tuple(l)\n",
    "print(tupel2)"
   ]
  },
  {
   "cell_type": "code",
   "execution_count": 5,
   "metadata": {},
   "outputs": [
    {
     "data": {
      "text/plain": [
       "2"
      ]
     },
     "execution_count": 5,
     "metadata": {},
     "output_type": "execute_result"
    }
   ],
   "source": [
    "tupel1 = (1, 2,3 ,4 ,3)\n",
    "tupel1.count(3)"
   ]
  },
  {
   "cell_type": "code",
   "execution_count": 6,
   "metadata": {},
   "outputs": [
    {
     "data": {
      "text/plain": [
       "(1, 2, 3)"
      ]
     },
     "execution_count": 6,
     "metadata": {},
     "output_type": "execute_result"
    }
   ],
   "source": [
    "t = (1, 2,3 ,4 ,3)\n",
    "\n",
    "t[:3]"
   ]
  },
  {
   "cell_type": "code",
   "execution_count": 9,
   "metadata": {},
   "outputs": [
    {
     "data": {
      "text/plain": [
       "False"
      ]
     },
     "execution_count": 9,
     "metadata": {},
     "output_type": "execute_result"
    }
   ],
   "source": [
    "t = (1, 2,3 ,4 ,3)\n",
    "\n",
    "def check_if_in_tupel(tupel:tuple, thing:any)->bool:\n",
    "    if tupel.count(thing) > 0: return True\n",
    "    return False\n",
    "check_if_in_tupel(t, \"f\")"
   ]
  },
  {
   "cell_type": "code",
   "execution_count": 20,
   "metadata": {},
   "outputs": [
    {
     "name": "stdout",
     "output_type": "stream",
     "text": [
      "(0, 4, 16, 36, 64)\n"
     ]
    }
   ],
   "source": [
    "def give_even_quadrat(n:int)->tuple:\n",
    "    t = [i**2 for i in range(n) if i%2 == 0]\n",
    "\n",
    "    return tuple(t)\n",
    "\n",
    "print(give_even_quadrat(10))"
   ]
  },
  {
   "cell_type": "code",
   "execution_count": 24,
   "metadata": {},
   "outputs": [
    {
     "data": {
      "text/plain": [
       "3"
      ]
     },
     "execution_count": 24,
     "metadata": {},
     "output_type": "execute_result"
    }
   ],
   "source": [
    "def biger_then_mean(t:tuple):\n",
    "    mean = 0\n",
    "    for num in t:\n",
    "        mean += num\n",
    "    \n",
    "    mean = mean / len(t)\n",
    "    counter = 0\n",
    "    for num in t:\n",
    "        if num > mean:\n",
    "            counter += 1\n",
    "    \n",
    "    return counter\n",
    "\n",
    "t = (1, 2, 3, 4, 5, 6, 7)\n",
    "biger_then_mean(t)"
   ]
  },
  {
   "cell_type": "code",
   "execution_count": 1,
   "metadata": {},
   "outputs": [],
   "source": [
    "def sort_tupel(t:tuple):\n",
    "    sorted_list = []\n",
    "    while t:\n",
    "        min_wort = min(t, key=len)\n",
    "        sorted_list.append(min_wort)\n",
    "        t = tuple(wort for wort in t if wort != min_wort)\n",
    "    return tuple(sorted_list)"
   ]
  },
  {
   "cell_type": "code",
   "execution_count": 2,
   "metadata": {},
   "outputs": [],
   "source": [
    "def combine_tuple(t1:tuple, t2:tuple)->tuple:\n",
    "    kombinierte_liste = []\n",
    "    for element in zip(tupel1, tupel2):\n",
    "        for tmp in element:\n",
    "            kombinierte_liste.append(tmp)\n",
    "    return tuple(kombinierte_liste)"
   ]
  },
  {
   "cell_type": "code",
   "execution_count": 3,
   "metadata": {},
   "outputs": [],
   "source": [
    "def reversed_words_in_tuple(t:tuple)->tuple:\n",
    "    reversed_list = []\n",
    "    for word in t:\n",
    "        reversed_list.append(word[::-1])"
   ]
  }
 ],
 "metadata": {
  "kernelspec": {
   "display_name": "web_scraping",
   "language": "python",
   "name": "python3"
  },
  "language_info": {
   "codemirror_mode": {
    "name": "ipython",
    "version": 3
   },
   "file_extension": ".py",
   "mimetype": "text/x-python",
   "name": "python",
   "nbconvert_exporter": "python",
   "pygments_lexer": "ipython3",
   "version": "3.9.15"
  }
 },
 "nbformat": 4,
 "nbformat_minor": 2
}
