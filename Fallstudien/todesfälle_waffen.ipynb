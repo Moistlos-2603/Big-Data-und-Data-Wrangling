{
 "cells": [
  {
   "cell_type": "code",
   "execution_count": 2,
   "metadata": {},
   "outputs": [],
   "source": [
    "import pandas as pd"
   ]
  },
  {
   "cell_type": "code",
   "execution_count": 3,
   "metadata": {},
   "outputs": [
    {
     "data": {
      "text/html": [
       "<div>\n",
       "<style scoped>\n",
       "    .dataframe tbody tr th:only-of-type {\n",
       "        vertical-align: middle;\n",
       "    }\n",
       "\n",
       "    .dataframe tbody tr th {\n",
       "        vertical-align: top;\n",
       "    }\n",
       "\n",
       "    .dataframe thead th {\n",
       "        text-align: right;\n",
       "    }\n",
       "</style>\n",
       "<table border=\"1\" class=\"dataframe\">\n",
       "  <thead>\n",
       "    <tr style=\"text-align: right;\">\n",
       "      <th></th>\n",
       "      <th>Unnamed: 0</th>\n",
       "      <th>year</th>\n",
       "      <th>month</th>\n",
       "      <th>intent</th>\n",
       "      <th>police</th>\n",
       "      <th>sex</th>\n",
       "      <th>age</th>\n",
       "      <th>race</th>\n",
       "      <th>hispanic</th>\n",
       "      <th>place</th>\n",
       "      <th>education</th>\n",
       "    </tr>\n",
       "  </thead>\n",
       "  <tbody>\n",
       "    <tr>\n",
       "      <th>20</th>\n",
       "      <td>21</td>\n",
       "      <td>2012</td>\n",
       "      <td>4</td>\n",
       "      <td>Suicide</td>\n",
       "      <td>0</td>\n",
       "      <td>M</td>\n",
       "      <td>65.0</td>\n",
       "      <td>Native American/Native Alaskan</td>\n",
       "      <td>100</td>\n",
       "      <td>Home</td>\n",
       "      <td>HS/GED</td>\n",
       "    </tr>\n",
       "    <tr>\n",
       "      <th>21</th>\n",
       "      <td>22</td>\n",
       "      <td>2012</td>\n",
       "      <td>4</td>\n",
       "      <td>Suicide</td>\n",
       "      <td>0</td>\n",
       "      <td>F</td>\n",
       "      <td>52.0</td>\n",
       "      <td>White</td>\n",
       "      <td>100</td>\n",
       "      <td>Home</td>\n",
       "      <td>HS/GED</td>\n",
       "    </tr>\n",
       "    <tr>\n",
       "      <th>22</th>\n",
       "      <td>23</td>\n",
       "      <td>2012</td>\n",
       "      <td>4</td>\n",
       "      <td>Homicide</td>\n",
       "      <td>0</td>\n",
       "      <td>F</td>\n",
       "      <td>47.0</td>\n",
       "      <td>Black</td>\n",
       "      <td>100</td>\n",
       "      <td>Home</td>\n",
       "      <td>HS/GED</td>\n",
       "    </tr>\n",
       "    <tr>\n",
       "      <th>23</th>\n",
       "      <td>24</td>\n",
       "      <td>2012</td>\n",
       "      <td>4</td>\n",
       "      <td>Suicide</td>\n",
       "      <td>0</td>\n",
       "      <td>M</td>\n",
       "      <td>19.0</td>\n",
       "      <td>White</td>\n",
       "      <td>100</td>\n",
       "      <td>Home</td>\n",
       "      <td>Some college</td>\n",
       "    </tr>\n",
       "    <tr>\n",
       "      <th>24</th>\n",
       "      <td>25</td>\n",
       "      <td>2012</td>\n",
       "      <td>4</td>\n",
       "      <td>Homicide</td>\n",
       "      <td>0</td>\n",
       "      <td>M</td>\n",
       "      <td>51.0</td>\n",
       "      <td>White</td>\n",
       "      <td>100</td>\n",
       "      <td>Other specified</td>\n",
       "      <td>HS/GED</td>\n",
       "    </tr>\n",
       "    <tr>\n",
       "      <th>25</th>\n",
       "      <td>26</td>\n",
       "      <td>2012</td>\n",
       "      <td>4</td>\n",
       "      <td>Homicide</td>\n",
       "      <td>0</td>\n",
       "      <td>M</td>\n",
       "      <td>41.0</td>\n",
       "      <td>White</td>\n",
       "      <td>100</td>\n",
       "      <td>Other specified</td>\n",
       "      <td>HS/GED</td>\n",
       "    </tr>\n",
       "    <tr>\n",
       "      <th>26</th>\n",
       "      <td>27</td>\n",
       "      <td>2012</td>\n",
       "      <td>4</td>\n",
       "      <td>Suicide</td>\n",
       "      <td>0</td>\n",
       "      <td>M</td>\n",
       "      <td>22.0</td>\n",
       "      <td>Native American/Native Alaskan</td>\n",
       "      <td>100</td>\n",
       "      <td>Other specified</td>\n",
       "      <td>HS/GED</td>\n",
       "    </tr>\n",
       "    <tr>\n",
       "      <th>27</th>\n",
       "      <td>28</td>\n",
       "      <td>2012</td>\n",
       "      <td>4</td>\n",
       "      <td>Suicide</td>\n",
       "      <td>0</td>\n",
       "      <td>M</td>\n",
       "      <td>21.0</td>\n",
       "      <td>White</td>\n",
       "      <td>100</td>\n",
       "      <td>Other specified</td>\n",
       "      <td>HS/GED</td>\n",
       "    </tr>\n",
       "    <tr>\n",
       "      <th>28</th>\n",
       "      <td>29</td>\n",
       "      <td>2012</td>\n",
       "      <td>4</td>\n",
       "      <td>Suicide</td>\n",
       "      <td>0</td>\n",
       "      <td>M</td>\n",
       "      <td>56.0</td>\n",
       "      <td>White</td>\n",
       "      <td>100</td>\n",
       "      <td>Home</td>\n",
       "      <td>HS/GED</td>\n",
       "    </tr>\n",
       "    <tr>\n",
       "      <th>29</th>\n",
       "      <td>30</td>\n",
       "      <td>2012</td>\n",
       "      <td>4</td>\n",
       "      <td>Homicide</td>\n",
       "      <td>0</td>\n",
       "      <td>M</td>\n",
       "      <td>43.0</td>\n",
       "      <td>White</td>\n",
       "      <td>100</td>\n",
       "      <td>Other specified</td>\n",
       "      <td>HS/GED</td>\n",
       "    </tr>\n",
       "  </tbody>\n",
       "</table>\n",
       "</div>"
      ],
      "text/plain": [
       "    Unnamed: 0  year  month    intent  police sex   age  \\\n",
       "20          21  2012      4   Suicide       0   M  65.0   \n",
       "21          22  2012      4   Suicide       0   F  52.0   \n",
       "22          23  2012      4  Homicide       0   F  47.0   \n",
       "23          24  2012      4   Suicide       0   M  19.0   \n",
       "24          25  2012      4  Homicide       0   M  51.0   \n",
       "25          26  2012      4  Homicide       0   M  41.0   \n",
       "26          27  2012      4   Suicide       0   M  22.0   \n",
       "27          28  2012      4   Suicide       0   M  21.0   \n",
       "28          29  2012      4   Suicide       0   M  56.0   \n",
       "29          30  2012      4  Homicide       0   M  43.0   \n",
       "\n",
       "                              race  hispanic            place     education  \n",
       "20  Native American/Native Alaskan       100             Home        HS/GED  \n",
       "21                           White       100             Home        HS/GED  \n",
       "22                           Black       100             Home        HS/GED  \n",
       "23                           White       100             Home  Some college  \n",
       "24                           White       100  Other specified        HS/GED  \n",
       "25                           White       100  Other specified        HS/GED  \n",
       "26  Native American/Native Alaskan       100  Other specified        HS/GED  \n",
       "27                           White       100  Other specified        HS/GED  \n",
       "28                           White       100             Home        HS/GED  \n",
       "29                           White       100  Other specified        HS/GED  "
      ]
     },
     "execution_count": 3,
     "metadata": {},
     "output_type": "execute_result"
    }
   ],
   "source": [
    "df = pd.read_csv(\"./datasets/Death_data_2.csv\", sep=\",\", quotechar='\"')\n",
    "df[20:30]"
   ]
  },
  {
   "cell_type": "code",
   "execution_count": 4,
   "metadata": {},
   "outputs": [],
   "source": [
    "# Clean up \n",
    "df[df[\"month\"] > 12]\n",
    "df = df[df[\"month\"] <= 12]  \n",
    "\n",
    "df[df[\"year\"] > 2014]\n",
    "df = df[df[\"year\"] <= 2014] \n",
    "\n",
    "pd.unique(df[\"intent\"]).tolist()\n",
    "df = df[df[\"intent\"].isna() == False]\n",
    "\n",
    "pd.unique(df[\"sex\"]).tolist()\n",
    "df[\"sex\"] = df[\"sex\"].apply(lambda x: \"M\" if x == \"Male\" else x)\n",
    "df[\"sex\"] = df[\"sex\"].apply(lambda x: \"F\" if x == \"Female\" else x)\n",
    "\n",
    "\n",
    "df = df[df[\"age\"].isna() == False]\n",
    "idk = pd.unique(df[\"age\"]).tolist()\n",
    "idk.sort()\n",
    "idk\n",
    "df = df[df[\"age\"] <= 107] \n"
   ]
  },
  {
   "cell_type": "code",
   "execution_count": 5,
   "metadata": {},
   "outputs": [
    {
     "name": "stdout",
     "output_type": "stream",
     "text": [
      "year: 2012\n",
      "Males: 28836\n",
      "Female: 4724\n",
      "\n",
      "year: 2013\n",
      "Males: 28781\n",
      "Female: 4841\n",
      "\n",
      "year: 2014\n",
      "Males: 28713\n",
      "Female: 4882\n",
      "\n"
     ]
    }
   ],
   "source": [
    "# Wie hoch ist die Zahl der jährlichen Todesfälle durch Selbstmord \n",
    "# mit einer Waffe inden Vereinigten Staaten zwischen 2012 und 2014, aufgeschlüsselt nachGeschlecht?\n",
    "years = pd.unique(df[\"year\"]).tolist()\n",
    "M = df[df[\"sex\"] == \"M\"]\n",
    "F = df[df[\"sex\"] == \"F\"]\n",
    "for year in years:\n",
    "    print(\"year: \" + str(year))\n",
    "    print(\"Males: \" + str(M[M[\"year\"] == year][\"year\"].count()))\n",
    "    print(\"Female: \" + str(F[F[\"year\"] == year][\"year\"].count()))\n",
    "    print()"
   ]
  },
  {
   "cell_type": "code",
   "execution_count": 19,
   "metadata": {},
   "outputs": [
    {
     "name": "stdout",
     "output_type": "stream",
     "text": [
      "deaths per 100000 people\n",
      "Asian/Pacific Islander: 0.39753975397539754\n",
      "White: 19.86918691869187\n",
      "Native American/Native Alaskan: 0.27482748274827484\n",
      "Black: 6.9882988298829884\n",
      "Hispanic: 2.706270627062706\n"
     ]
    }
   ],
   "source": [
    "# Wie hoch ist die Zahl der Todesfälle durch Schusswaffen nach Rasse in den\n",
    "# Vereinigten USA pro 100.000 Menschen von 2012 bis 2014?\n",
    "usa_einwohner = 333_300_000\n",
    "races = pd.unique(df[\"race\"]).tolist()\n",
    "print(\"deaths per 100000 people\")\n",
    "for race in races:\n",
    "    deaths = df[df[\"race\"] == race][\"year\"].count()\n",
    "    print(str(race) + \": \" +str(deaths/(usa_einwohner/100_000)))"
   ]
  },
  {
   "cell_type": "code",
   "execution_count": 22,
   "metadata": {},
   "outputs": [
    {
     "name": "stdout",
     "output_type": "stream",
     "text": [
      "Suicide: 63169\n",
      "Undetermined: 806\n",
      "Accidental: 1638\n",
      "Homicide: 35164\n"
     ]
    }
   ],
   "source": [
    "# Wie hoch ist die jährliche Zahl der Todesfälle durch Schusswaffen in den Vereinigten\n",
    "# USA im Durchschnitt von 2012 bis 2014, aufgeschlüsselt nach Ursachen?\n",
    "\n",
    "intents = pd.unique(df[\"intent\"]).tolist()\n",
    "for intent in intents:\n",
    "    deaths = df[df[\"intent\"] == intent][\"year\"].count()\n",
    "    print(str(intent) + \": \" +str(deaths))"
   ]
  },
  {
   "cell_type": "code",
   "execution_count": 24,
   "metadata": {},
   "outputs": [
    {
     "name": "stdout",
     "output_type": "stream",
     "text": [
      "deaths per 100000 people\n",
      "Suicide: 18.952595259525953\n",
      "Undetermined: 0.24182418241824183\n",
      "Accidental: 0.49144914491449143\n",
      "Homicide: 10.550255025502551\n"
     ]
    }
   ],
   "source": [
    "# Wie hoch ist der Anteil von 100.000 der jährlichen Todesopfer durch Waffen in den\n",
    "# Vereinigten Staaten von 2012 bis 2014, nach Ursache?\n",
    "intents = pd.unique(df[\"intent\"]).tolist()\n",
    "print(\"deaths per 100000 people\")\n",
    "for intent in intents:\n",
    "    deaths = df[df[\"intent\"] == intent][\"year\"].count()\n",
    "    print(str(intent) + \": \" +str(deaths/(usa_einwohner/100_000)))"
   ]
  },
  {
   "cell_type": "code",
   "execution_count": 29,
   "metadata": {},
   "outputs": [
    {
     "name": "stdout",
     "output_type": "stream",
     "text": [
      "2012: 20664\n",
      "2013: 21171\n",
      "2014: 21334\n"
     ]
    }
   ],
   "source": [
    "# Wie hoch ist der prozentuale Anteil der jährlichen Todesfälle durch\n",
    "# Selbstmordwaffen in den in den Vereinigten Staaten von 2012 bis 2014,\n",
    "# aufgeschlüsselt nach Jahren?\n",
    "years = pd.unique(df[\"year\"]).tolist()\n",
    "for year in years:\n",
    "    deaths = df[df[\"year\"] == year]\n",
    "    deaths = deaths[deaths[\"intent\"] == \"Suicide\"][\"year\"].count()\n",
    "    print(str(year) + \": \" +str(deaths))\n",
    "                "
   ]
  }
 ],
 "metadata": {
  "kernelspec": {
   "display_name": "web_scraping",
   "language": "python",
   "name": "python3"
  },
  "language_info": {
   "codemirror_mode": {
    "name": "ipython",
    "version": 3
   },
   "file_extension": ".py",
   "mimetype": "text/x-python",
   "name": "python",
   "nbconvert_exporter": "python",
   "pygments_lexer": "ipython3",
   "version": "3.9.15"
  }
 },
 "nbformat": 4,
 "nbformat_minor": 2
}
