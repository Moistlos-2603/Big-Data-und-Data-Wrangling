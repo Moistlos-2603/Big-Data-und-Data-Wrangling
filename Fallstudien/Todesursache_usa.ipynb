{
 "cells": [
  {
   "cell_type": "code",
   "execution_count": 52,
   "metadata": {},
   "outputs": [],
   "source": [
    "import pandas as pd \n"
   ]
  },
  {
   "cell_type": "code",
   "execution_count": 60,
   "metadata": {},
   "outputs": [
    {
     "data": {
      "text/html": [
       "<div>\n",
       "<style scoped>\n",
       "    .dataframe tbody tr th:only-of-type {\n",
       "        vertical-align: middle;\n",
       "    }\n",
       "\n",
       "    .dataframe tbody tr th {\n",
       "        vertical-align: top;\n",
       "    }\n",
       "\n",
       "    .dataframe thead th {\n",
       "        text-align: right;\n",
       "    }\n",
       "</style>\n",
       "<table border=\"1\" class=\"dataframe\">\n",
       "  <thead>\n",
       "    <tr style=\"text-align: right;\">\n",
       "      <th></th>\n",
       "      <th>Year</th>\n",
       "      <th>113 Cause Name</th>\n",
       "      <th>Cause Name</th>\n",
       "      <th>State</th>\n",
       "      <th>Deaths</th>\n",
       "      <th>Age-adjusted Death Rate</th>\n",
       "    </tr>\n",
       "  </thead>\n",
       "  <tbody>\n",
       "    <tr>\n",
       "      <th>0</th>\n",
       "      <td>2017</td>\n",
       "      <td>Accidents (unintentional injuries) (V01-X59,Y8...</td>\n",
       "      <td>Unintentional injuries</td>\n",
       "      <td>United States</td>\n",
       "      <td>169936</td>\n",
       "      <td>49.4</td>\n",
       "    </tr>\n",
       "    <tr>\n",
       "      <th>1</th>\n",
       "      <td>2017</td>\n",
       "      <td>Accidents (unintentional injuries) (V01-X59,Y8...</td>\n",
       "      <td>Unintentional injuries</td>\n",
       "      <td>Alabama</td>\n",
       "      <td>2703</td>\n",
       "      <td>53.8</td>\n",
       "    </tr>\n",
       "    <tr>\n",
       "      <th>2</th>\n",
       "      <td>2017</td>\n",
       "      <td>Accidents (unintentional injuries) (V01-X59,Y8...</td>\n",
       "      <td>Unintentional injuries</td>\n",
       "      <td>Alaska</td>\n",
       "      <td>436</td>\n",
       "      <td>63.7</td>\n",
       "    </tr>\n",
       "    <tr>\n",
       "      <th>3</th>\n",
       "      <td>2017</td>\n",
       "      <td>Accidents (unintentional injuries) (V01-X59,Y8...</td>\n",
       "      <td>Unintentional injuries</td>\n",
       "      <td>Arizona</td>\n",
       "      <td>4184</td>\n",
       "      <td>56.2</td>\n",
       "    </tr>\n",
       "    <tr>\n",
       "      <th>4</th>\n",
       "      <td>2017</td>\n",
       "      <td>Accidents (unintentional injuries) (V01-X59,Y8...</td>\n",
       "      <td>Unintentional injuries</td>\n",
       "      <td>Arkansas</td>\n",
       "      <td>1625</td>\n",
       "      <td>51.8</td>\n",
       "    </tr>\n",
       "    <tr>\n",
       "      <th>...</th>\n",
       "      <td>...</td>\n",
       "      <td>...</td>\n",
       "      <td>...</td>\n",
       "      <td>...</td>\n",
       "      <td>...</td>\n",
       "      <td>...</td>\n",
       "    </tr>\n",
       "    <tr>\n",
       "      <th>10863</th>\n",
       "      <td>1999</td>\n",
       "      <td>Nephritis, nephrotic syndrome and nephrosis (N...</td>\n",
       "      <td>Kidney disease</td>\n",
       "      <td>Virginia</td>\n",
       "      <td>1035</td>\n",
       "      <td>16.9</td>\n",
       "    </tr>\n",
       "    <tr>\n",
       "      <th>10864</th>\n",
       "      <td>1999</td>\n",
       "      <td>Nephritis, nephrotic syndrome and nephrosis (N...</td>\n",
       "      <td>Kidney disease</td>\n",
       "      <td>Washington</td>\n",
       "      <td>278</td>\n",
       "      <td>5.2</td>\n",
       "    </tr>\n",
       "    <tr>\n",
       "      <th>10865</th>\n",
       "      <td>1999</td>\n",
       "      <td>Nephritis, nephrotic syndrome and nephrosis (N...</td>\n",
       "      <td>Kidney disease</td>\n",
       "      <td>West Virginia</td>\n",
       "      <td>345</td>\n",
       "      <td>16.4</td>\n",
       "    </tr>\n",
       "    <tr>\n",
       "      <th>10866</th>\n",
       "      <td>1999</td>\n",
       "      <td>Nephritis, nephrotic syndrome and nephrosis (N...</td>\n",
       "      <td>Kidney disease</td>\n",
       "      <td>Wisconsin</td>\n",
       "      <td>677</td>\n",
       "      <td>11.9</td>\n",
       "    </tr>\n",
       "    <tr>\n",
       "      <th>10867</th>\n",
       "      <td>1999</td>\n",
       "      <td>Nephritis, nephrotic syndrome and nephrosis (N...</td>\n",
       "      <td>Kidney disease</td>\n",
       "      <td>Wyoming</td>\n",
       "      <td>30</td>\n",
       "      <td>6.8</td>\n",
       "    </tr>\n",
       "  </tbody>\n",
       "</table>\n",
       "<p>10866 rows × 6 columns</p>\n",
       "</div>"
      ],
      "text/plain": [
       "       Year                                     113 Cause Name  \\\n",
       "0      2017  Accidents (unintentional injuries) (V01-X59,Y8...   \n",
       "1      2017  Accidents (unintentional injuries) (V01-X59,Y8...   \n",
       "2      2017  Accidents (unintentional injuries) (V01-X59,Y8...   \n",
       "3      2017  Accidents (unintentional injuries) (V01-X59,Y8...   \n",
       "4      2017  Accidents (unintentional injuries) (V01-X59,Y8...   \n",
       "...     ...                                                ...   \n",
       "10863  1999  Nephritis, nephrotic syndrome and nephrosis (N...   \n",
       "10864  1999  Nephritis, nephrotic syndrome and nephrosis (N...   \n",
       "10865  1999  Nephritis, nephrotic syndrome and nephrosis (N...   \n",
       "10866  1999  Nephritis, nephrotic syndrome and nephrosis (N...   \n",
       "10867  1999  Nephritis, nephrotic syndrome and nephrosis (N...   \n",
       "\n",
       "                   Cause Name          State  Deaths  Age-adjusted Death Rate  \n",
       "0      Unintentional injuries  United States  169936                     49.4  \n",
       "1      Unintentional injuries        Alabama    2703                     53.8  \n",
       "2      Unintentional injuries         Alaska     436                     63.7  \n",
       "3      Unintentional injuries        Arizona    4184                     56.2  \n",
       "4      Unintentional injuries       Arkansas    1625                     51.8  \n",
       "...                       ...            ...     ...                      ...  \n",
       "10863          Kidney disease       Virginia    1035                     16.9  \n",
       "10864          Kidney disease     Washington     278                      5.2  \n",
       "10865          Kidney disease  West Virginia     345                     16.4  \n",
       "10866          Kidney disease      Wisconsin     677                     11.9  \n",
       "10867          Kidney disease        Wyoming      30                      6.8  \n",
       "\n",
       "[10866 rows x 6 columns]"
      ]
     },
     "execution_count": 60,
     "metadata": {},
     "output_type": "execute_result"
    }
   ],
   "source": [
    "df = pd.read_csv(\"./datasets/NCHS_2.csv\", sep=\",\")\n",
    "\n",
    "df = df[df[\"Year\"] != 2026 ]\n",
    "\n",
    "df"
   ]
  },
  {
   "cell_type": "code",
   "execution_count": 54,
   "metadata": {},
   "outputs": [
    {
     "data": {
      "text/plain": [
       "10866"
      ]
     },
     "execution_count": 54,
     "metadata": {},
     "output_type": "execute_result"
    }
   ],
   "source": [
    "# Wie hoch ist die Gesamtzahl der Datensätze in diesem Datensatz?\n",
    "df.shape[0]"
   ]
  },
  {
   "cell_type": "code",
   "execution_count": 55,
   "metadata": {},
   "outputs": [
    {
     "data": {
      "text/plain": [
       "['Unintentional injuries',\n",
       " 'All causes',\n",
       " \"Alzheimer's disease\",\n",
       " 'Stroke',\n",
       " 'CLRD',\n",
       " 'Diabetes',\n",
       " 'Heart disease',\n",
       " 'Influenza and pneumonia',\n",
       " 'Suicide',\n",
       " 'Cancer',\n",
       " 'Kidney disease',\n",
       " 'Suciide',\n",
       " 'Suicidee']"
      ]
     },
     "execution_count": 55,
     "metadata": {},
     "output_type": "execute_result"
    }
   ],
   "source": [
    "# Was waren die Todesursachen in diesem Datensatz?\n",
    "pd.unique(df[\"Cause Name\"]).tolist()"
   ]
  },
  {
   "cell_type": "code",
   "execution_count": 56,
   "metadata": {},
   "outputs": [
    {
     "data": {
      "text/plain": [
       "84007503.0"
      ]
     },
     "execution_count": 56,
     "metadata": {},
     "output_type": "execute_result"
    }
   ],
   "source": [
    "# Wie hoch war die Gesamtzahl der Todesfälle in den Vereinigten\n",
    "sum(df[\"Deaths\"])/2"
   ]
  },
  {
   "cell_type": "code",
   "execution_count": 58,
   "metadata": {},
   "outputs": [
    {
     "name": "stdout",
     "output_type": "stream",
     "text": [
      "1999: 4297225\n",
      "2000: 4305545\n",
      "2001: 4315783\n",
      "2002: 4362260\n",
      "2003: 4360403\n",
      "2004: 4261748\n",
      "2005: 4337998\n",
      "2006: 4280940\n",
      "2007: 4270013\n",
      "2008: 4344965\n",
      "2009: 4275664\n",
      "2010: 4320784\n",
      "2011: 4384779\n",
      "2012: 4419867\n",
      "2013: 4507304\n",
      "2014: 4564826\n",
      "2015: 4725647\n",
      "2016: 4778367\n",
      "2017: 4895034\n"
     ]
    }
   ],
   "source": [
    "# USA von 1999 bis 2017?\n",
    "# Wie hoch ist die Zahl der Todesfälle in jedem Jahr von 1999\n",
    "years = pd.unique(df[\"Year\"]).tolist()\n",
    "years.sort()\n",
    "for year in years:\n",
    "    death_in_year = df[df[\"Year\"] == year]\n",
    "    death_in_year = death_in_year[death_in_year[\"State\"] == \"United States\"]\n",
    "    print(str(year) + \": \" + str(death_in_year[\"Deaths\"].sum()))"
   ]
  },
  {
   "cell_type": "code",
   "execution_count": 88,
   "metadata": {},
   "outputs": [
    {
     "name": "stdout",
     "output_type": "stream",
     "text": [
      "1. California: 8169513\n",
      "2. Florida: 5868231\n",
      "3. Texas: 5535028\n",
      "4. New York: 5161056\n",
      "5. Pennsylvania: 4304492\n",
      "6. Ohio: 3716207\n",
      "7. Illinois: 3488538\n",
      "8. Michigan: 3011369\n",
      "9. North Carolina: 2608123\n",
      "10. New Jersey: 2397044\n"
     ]
    }
   ],
   "source": [
    "# Welche zehn Staaten hatten die höchste Zahl an Todesfällen insgesamt?\n",
    "\n",
    "states = pd.unique(df[\"State\"]).tolist()\n",
    "dic = {}\n",
    "for state in states:\n",
    "    dic[state] = df[df[\"State\"] == state][\"Deaths\"].sum()\n",
    "\n",
    "del dic[\"United States\"]\n",
    "\n",
    "dic = dict(sorted(dic.items(), key=lambda item: item[-1], reverse=True))\n",
    "top_10 = list(dic.keys())[0:10]\n",
    "\n",
    "for i , top in enumerate(top_10):\n",
    "    print(str(i+1) + \". \" + str(top) + \": \" + str(dic[top]))"
   ]
  },
  {
   "cell_type": "code",
   "execution_count": 93,
   "metadata": {},
   "outputs": [
    {
     "name": "stdout",
     "output_type": "stream",
     "text": [
      "1. Heart disease: 24445280\n",
      "2. Cancer: 21687288\n",
      "3. Stroke: 5453046\n",
      "4. CLRD: 5189854\n",
      "5. Unintentional injuries: 4695640\n",
      "6. Alzheimer's disease: 2989632\n",
      "7. Diabetes: 2798003\n",
      "8. Influenza and pneumonia: 2189282\n",
      "9. Kidney disease: 1717226\n",
      "10. Suicide: 1387297\n"
     ]
    }
   ],
   "source": [
    "# Welche zehn Staaten hatten die höchste Zahl an Todesfällen insgesamt?\n",
    "\n",
    "causes = pd.unique(df[\"Cause Name\"]).tolist()\n",
    "dic = {}\n",
    "for cause in causes:\n",
    "    dic[cause] = df[df[\"Cause Name\"] == cause][\"Deaths\"].sum()\n",
    "del dic[\"All causes\"]\n",
    "dic \n",
    "\n",
    "dic = dict(sorted(dic.items(), key=lambda item: item[-1], reverse=True))\n",
    "top_10 = list(dic.keys())[0:10]\n",
    "\n",
    "for i , top in enumerate(top_10):\n",
    "    print(str(i+1) + \". \" + str(top) + \": \" + str(dic[top]))"
   ]
  }
 ],
 "metadata": {
  "kernelspec": {
   "display_name": "web_scraping",
   "language": "python",
   "name": "python3"
  },
  "language_info": {
   "codemirror_mode": {
    "name": "ipython",
    "version": 3
   },
   "file_extension": ".py",
   "mimetype": "text/x-python",
   "name": "python",
   "nbconvert_exporter": "python",
   "pygments_lexer": "ipython3",
   "version": "3.9.15"
  }
 },
 "nbformat": 4,
 "nbformat_minor": 2
}
